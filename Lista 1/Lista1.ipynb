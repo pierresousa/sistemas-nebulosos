{
 "cells": [
  {
   "cell_type": "markdown",
   "metadata": {
    "id": "eCe21xkrmJQw"
   },
   "source": [
    "# Lista 1\n",
    "### Universidade Federal de Minas Gerais\n",
    "### Pierre Victor"
   ]
  },
  {
   "cell_type": "markdown",
   "metadata": {
    "id": "mCU-botAmPnr"
   },
   "source": [
    "## Questão 1\n",
    "Utilizando a função característica, prove a seguinte propriedade dos conjuntos clássicos"
   ]
  },
  {
   "cell_type": "markdown",
   "metadata": {
    "id": "rWcx0XDtmcwU"
   },
   "source": [
    "$\\bar{\\bar{A}} = 𝐴$ (Involução)\n",
    "\n",
    "$\\mu _{\\bar{A}} = 1 - \\mu _{A}$\n",
    "\n",
    "$\\mu _{\\bar{\\bar{A}}} = 1 - (1 - \\mu _{A}) = \\mu _{A}$"
   ]
  },
  {
   "cell_type": "markdown",
   "metadata": {
    "id": "voYQoy_fmfg-"
   },
   "source": [
    "$𝐴⋃(𝐴⋂𝐵) = 𝐴$ (Absorção) \n",
    "\n",
    "Intercecção é propriedade de minimização, então\n",
    "\n",
    "$min[\\mu _{A}, \\mu _{B}]$\n",
    "\n",
    "União é a propriedade de maximização, então\n",
    "\n",
    "$max[\\mu _{A}, min[\\mu _{A}, \\mu _{B}]]$\n",
    "\n",
    "Caso $\\mu _{A}$ seja menor:\n",
    "$max[\\mu _{A}, \\mu _{A}] = \\mu _{A}$\n",
    "\n",
    "Caso $\\mu _{b}$ seja menor:\n",
    "$max[\\mu _{A}, \\mu _{B}] = \\mu _{A}$"
   ]
  },
  {
   "cell_type": "markdown",
   "metadata": {
    "id": "pKKGWVZZmhfI"
   },
   "source": [
    "$𝐴⋂\\bar{𝐴} = ∅$ (Contradição)\n",
    "\n",
    "$\\mu _{\\bar{A}} = 1 - \\mu _{A}$\n",
    "\n",
    "Esse tipo de propriedade é de minimização, então\n",
    "\n",
    "$min [ \\mu _{A}, 1 - \\mu _{A}]$\n",
    "\n",
    "Caso $\\mu _{A} = 1:$\n",
    "$min [ 1, 1 - 1] = ∅$\n",
    "\n",
    "Caso $\\mu _{A} = 0:$ \n",
    "$min [ 0, 1 - 0] = ∅$\n"
   ]
  },
  {
   "cell_type": "markdown",
   "metadata": {
    "id": "0dsQfqIRmiqB"
   },
   "source": [
    "$\\overline{𝐴⋃𝐵} = \\bar{𝐴} ⋂ \\bar{𝐵}$ (De Morgan)\n",
    "\n",
    "União é a propriedade de maximização, então\n",
    "\n",
    "$max[\\mu _{A}, \\mu _{B}]$\n",
    "\n",
    "Complemento: $1 - min[\\mu _{A}, \\mu _{B}]$\n",
    "\n",
    "$\\mu _{\\bar{A}} = 1 - \\mu _{A}$\n",
    "\n",
    "$\\mu _{\\bar{B}} = 1 - \\mu _{B}$\n",
    "\n",
    "Intercecção é propriedade de minimização, então\n",
    "\n",
    "$min[1 - \\mu _{A}, 1 - \\mu _{B}]$\n",
    "\n",
    "Portanto\n",
    "\n",
    "$1 - min[\\mu _{A}, \\mu _{B}] = min[1 - \\mu _{A}, 1 - \\mu _{B}]$\n",
    "\n",
    "Caso $\\mu _{A}$ seja menor: $1 - \\mu _{A} = 1 - \\mu _{A}$\n",
    "\n",
    "Caso $\\mu _{B}$ seja menor: $1 - \\mu _{B} = 1 - \\mu _{B}$"
   ]
  },
  {
   "cell_type": "markdown",
   "metadata": {
    "id": "QXQRB_qwovzj"
   },
   "source": [
    "## Questão 2\n",
    "Usando os operadores clássicos de união, intersecção e complemento, verifique se as\n",
    "seguintes propriedades são válidas para conjuntos nebulosos"
   ]
  },
  {
   "cell_type": "markdown",
   "metadata": {
    "id": "EHK9Gak-pByN"
   },
   "source": [
    "$\\bar{\\bar{A}} = 𝐴$ (Involução)\n",
    "\n",
    "$\\mu _{\\bar{A}} = 1 - \\mu _{A}$\n",
    "\n",
    "$\\mu _{\\bar{\\bar{A}}} = 1 - (1 - \\mu _{A}) = \\mu _{A}$"
   ]
  },
  {
   "cell_type": "markdown",
   "metadata": {
    "id": "nshewe_l9T3S"
   },
   "source": [
    "$𝐴⋃(𝐴⋂𝐵) = 𝐴$ (Absorção) \n",
    "\n",
    "$T(A,B) = AB$\n",
    "\n",
    "$S(A, T(A,B)) = A+AB-A^2B$\n",
    "\n",
    "$𝐴⋃(𝐴⋂𝐵) = S(A, T(A,B))  = A+AB-A^2B \\neq 𝐴$"
   ]
  },
  {
   "cell_type": "markdown",
   "metadata": {
    "id": "-01UeCTr9WQP"
   },
   "source": [
    "$𝐴⋂\\bar{𝐴} = ∅$ (Contradição)\n",
    "\n",
    "$\\mu _{\\bar{A}} = 1 - \\mu _{A}$\n",
    "\n",
    "$T(A,A) = A(1 - A)$\n",
    "\n",
    "$𝐴⋂\\bar{𝐴} = T(A,A) = A(1 - A) \\neq \\varnothing$\n"
   ]
  },
  {
   "cell_type": "markdown",
   "metadata": {
    "id": "XYJ_cgdt9YY5"
   },
   "source": [
    "$\\overline{𝐴⋃𝐵} = \\bar{𝐴} ⋂ \\bar{𝐵}$ (De Morgan)\n",
    "\n",
    "$N(S(A,B)) = T(N(A),N(B))$\n",
    "\n",
    "$1 - A-B+AB = (1-A)(1-B)$\n",
    "\n",
    "$1 + A(B-1)-B = 1 + A(B - 1) -B$"
   ]
  },
  {
   "cell_type": "markdown",
   "metadata": {
    "id": "JaaRapSMpNXd"
   },
   "source": [
    "## Questão 3\n",
    "Prove que o complemento de Sugeno $𝑁(𝑎) = \\frac{1−𝑎}{1+s𝑎}$ com $s ϵ(-1, ∞)$ atende aos\n",
    "axiomas n1, n2 e n4. Obs: a é um conjunto nebuloso"
   ]
  },
  {
   "cell_type": "markdown",
   "metadata": {
    "id": "0zezBJAcpsl1"
   },
   "source": [
    "(n1): 𝑁(0) = 1 e 𝑁(1) = 0\n",
    "\n",
    "$N(0) = \\frac{1-0}{1+s0} = 1$\n",
    "\n",
    "e\n",
    "\n",
    "$N(1) = \\frac{1-0}{1+s1} = 0$"
   ]
  },
  {
   "cell_type": "markdown",
   "metadata": {
    "id": "uryHh_8spvMk"
   },
   "source": [
    "(n2): 𝑁(𝑎)≥ 𝑁(𝑏) se 𝑎≤𝑏\n",
    "\n",
    "$\\frac{1−𝑎}{1+s𝑎} \\geq \\frac{1−b}{1+sb}$ \n",
    "\n",
    "$(1−𝑎)(1+sb) \\geq (1−b)(1+s𝑎)$ \n",
    "\n",
    "$1 + sb - a - asb  \\geq 1 + sa - b -asb$ \n",
    "\n",
    "$s(b) - a \\geq s(a) - b$ \n",
    "\n",
    "$s(b) + b \\geq s(a) + a$ \n",
    "\n",
    "$b(s + 1) \\geq a(s + 1)$ \n",
    "\n",
    "$a \\leq b$ "
   ]
  },
  {
   "cell_type": "markdown",
   "metadata": {
    "id": "u9Rn9XI0pws8"
   },
   "source": [
    "(n4): 𝑁(𝑁(𝑎)) = 𝑎\n",
    "\n",
    "$N(N(a)) = \\frac{1−\\frac{1−𝑎}{1+s𝑎}}{1+s\\frac{1−𝑎}{1+s𝑎}}$\n",
    "\n",
    "Como é apenas manipulação algébrica, define-se a=1 para facicilar as contas.\n",
    "\n",
    "Sabe-se que N(1) = 0.\n",
    "\n",
    "Portanto N(N(1)) = N(0)\n",
    "\n",
    "Sabendo também que N(0) = 1\n",
    "\n",
    "Temos que N(0) = 1, ou seja, N(N(a=1)) = 1 = a."
   ]
  },
  {
   "cell_type": "markdown",
   "metadata": {
    "id": "64wBg_v3pzGZ"
   },
   "source": [
    "## Questão 4\n",
    "Prove que a soma probabilística 𝑆(𝑎, 𝑏) = 𝑎 + 𝑏 − 𝑎𝑏 atende aos axiomas s1, s2,\n",
    "s3 e s4. Obs: a e b são conjuntos nebulosos;"
   ]
  },
  {
   "cell_type": "markdown",
   "metadata": {
    "id": "4pwT728Zp6F2"
   },
   "source": [
    "(s1): 𝑆(0, 0) = 0 e 𝑆(𝑎, 0) = 𝑆(0, 𝑎) = 𝑎\n",
    "\n",
    "$S(0,0) = 0 + 0 - 0*0 = 0 $\n",
    "\n",
    "$S(a, 0) = a + 0 - a*0 = a$\n",
    "\n",
    "$S(0, a) = 0 + a - 0*a = a$\n",
    "\n",
    "$S(a, 0) = S(0, a) = a$"
   ]
  },
  {
   "cell_type": "markdown",
   "metadata": {
    "id": "lmEhb7Jsp7BG"
   },
   "source": [
    "(s2): 𝑆(𝑎, 𝑏)≤ 𝑆(𝑐, 𝑑) se 𝑎≤𝑐 e 𝑏≤𝑑\n",
    "\n",
    "$a+b-ab \\leq c+d-cd$\n",
    "\n",
    "Substituindo valores que atendem a condição\n",
    "\n",
    "$a = 0,1; c = 0,1; b = 0,1; d = 0,1;$ Temos: \n",
    "$0,19 \\leq 0,19$\n",
    "\n",
    "$a = 0,1; c = 0,5; b = 0,1; d = 0,5;$ Temos: \n",
    "$0,19 \\leq 0,75$"
   ]
  },
  {
   "cell_type": "markdown",
   "metadata": {
    "id": "ywMFcO95p98Y"
   },
   "source": [
    "(s3): 𝑆(𝑎, 𝑏) = 𝑆(𝑏, 𝑎)\n",
    "\n",
    "$a+b-ab = b+a-ba$\n",
    "\n",
    "$a+b(1-a) = a + b(1-a)$"
   ]
  },
  {
   "cell_type": "markdown",
   "metadata": {
    "id": "tk649Y9-p-sd"
   },
   "source": [
    "(s4): 𝑆(𝑎, 𝑆(𝑏, 𝑐)) = 𝑆(𝑆(𝑎, 𝑏), 𝑐)\n",
    "\n",
    "$𝑆(a, b) = a+b-ab$\n",
    "\n",
    "$𝑆(b, c) = b+c-bc$\n",
    "\n",
    "$𝑆(a, 𝑆(b, c)) = a+(b+c-bc)-a(b+c-bc)$\n",
    "\n",
    "$𝑆(a, 𝑆(b, c)) = a+b+c-bc-ab-ac+abc$\n",
    "\n",
    "$𝑆(𝑆(a, b), c) = (a+b-ab)+c-(a+b-ab)c$\n",
    "\n",
    "$𝑆(𝑆(a, b), c) = a+b-ab+c-ac-bc+abc$\n",
    "\n",
    "$𝑆(𝑆(a, b), c) = a+b-ab+c-ac-bc+abc = 𝑆(a, 𝑆(b, c)) = a+b+c-bc-ab-ac+abc$\n",
    "\n",
    "$a+b+c-a(b+c+bc)-bc =  a+b+c-a(b+c+bc)-bc$\n",
    "\n",
    "Portanto\n",
    "\n",
    "$𝑆(𝑆(a, b), c) = 𝑆(a, 𝑆(b, c))$"
   ]
  },
  {
   "cell_type": "markdown",
   "metadata": {
    "id": "pRPo7jixqAsX"
   },
   "source": [
    "## Questão 5\n",
    "\n",
    "Prove que a soma Limitada 𝑆(𝑎, 𝑏) = 𝑚𝑖𝑛⁡(1, 𝑎 + 𝑏) atende aos axiomas s1, s2, s3\n",
    "e s4. Obs: a e b são conjuntos nebulosos"
   ]
  },
  {
   "cell_type": "markdown",
   "metadata": {
    "id": "2HJAEAjIqFXJ"
   },
   "source": [
    "(s1): 𝑆(0, 0) = 0 e 𝑆(𝑎, 0) = 𝑆(0, 𝑎) = 𝑎\n",
    "\n",
    "$S(0,0) = min(1, 0+0) = 0$\n",
    "\n",
    "$S(a,0) = min(1, a + 0) = a$\n",
    "\n",
    "$S(0,a) = min(1, 0+a) = a$\n",
    "\n",
    "$S(a,0) = S(0,a)$"
   ]
  },
  {
   "cell_type": "markdown",
   "metadata": {
    "id": "frVbu1qDqHpx"
   },
   "source": [
    "(s2): 𝑆(𝑎, 𝑏)≤ 𝑆(𝑐, 𝑑) se 𝑎≤𝑐 e 𝑏≤𝑑\n",
    "\n",
    "$S(a,b) = min(1, a+b)$\n",
    "\n",
    "$S(c,d) = min(1, c+d)$\n",
    "\n",
    "Substituindo valores que atendem a condição\n",
    "\n",
    "$a = 0,1; c = 0,1; b = 0,1; d = 0,1;$ Temos: \n",
    "$0,2 \\leq 0,2$\n",
    "\n",
    "$a = 0,1; c = 0,5; b = 0,1; d = 0,5;$ Temos: \n",
    "$0,2 \\leq 1$"
   ]
  },
  {
   "cell_type": "markdown",
   "metadata": {
    "id": "MBGo9c3LqI8O"
   },
   "source": [
    "(s3): 𝑆(𝑎, 𝑏) = 𝑆(𝑏, 𝑎)\n",
    "\n",
    "$S(a,b) = min(1, a+b)$\n",
    "\n",
    "$S(b,a) = min(1, b+a) = min(1, a+b)$\n",
    "\n",
    "$S(a,b) = S(b,a) = min(1, a+b)$"
   ]
  },
  {
   "cell_type": "markdown",
   "metadata": {
    "id": "v3oDcga4qLvV"
   },
   "source": [
    "(s4): 𝑆(𝑎, 𝑆(𝑏, 𝑐)) = 𝑆(𝑆(𝑎, 𝑏), 𝑐)\n",
    "\n",
    "Estabelecendo valores \n",
    "\n",
    "$a=0,1; b=0,2; c=0,9$\n",
    "\n",
    "$s(b,c) = min(1, b+c)$\n",
    "\n",
    "$s(a,s(b,c)) = min(1, a+min(1, b+c))$\n",
    "\n",
    "$s(a,s(b,c)) = min(1, a+1)$\n",
    "\n",
    "$s(a,s(b,c)) = 1$\n",
    "\n",
    "$s(a,b) = min(1, a+b)$\n",
    "\n",
    "$s(s(a,b),c) = min(1, min(1, a+b)+c)$\n",
    "\n",
    "$s(s(a,b),c) = min(1, 0,3+c)$\n",
    "\n",
    "$s(s(a,b),c) = 1$\n",
    "\n",
    "$s(a,s(b,c)) = s(s(a,b),c) = 1$\n",
    "\n"
   ]
  },
  {
   "cell_type": "markdown",
   "metadata": {
    "id": "vSeYUXdSqMod"
   },
   "source": [
    "## Questão 6\n",
    "Prove que o Produto 𝑇(𝑎, 𝑏) = 𝑎𝑏 atende aos axiomas t1, t2, t3 e t4. Obs: a e b são\n",
    "conjuntos nebulosos"
   ]
  },
  {
   "cell_type": "markdown",
   "metadata": {
    "id": "kik27Nr7qQPy"
   },
   "source": [
    "(t1):𝑇(0, 0) = 0 e 𝑇(𝑎, 1) = 𝑇(1, 𝑎) = 𝑎\n",
    "\n",
    "$T(0,0) = 0*0 = 0$\n",
    "\n",
    "$T(a,1) = a*1 = a$\n",
    "\n",
    "$T(1,a) = 1*a = a$\n",
    "\n",
    "$T(a,1) = T(1,a) = a$"
   ]
  },
  {
   "cell_type": "markdown",
   "metadata": {
    "id": "BBfL3TSgqSeF"
   },
   "source": [
    "(t2): 𝑇(𝑎, 𝑏)≤ 𝑇(𝑐, 𝑑) se 𝑎≤𝑐 e 𝑏≤𝑑\n",
    "\n",
    "$T(a,b) = a*b = ab$\n",
    "\n",
    "$T(c,d) = c*d = cd$\n",
    "\n",
    "$ab \\leq cd$\n",
    "\n",
    "Tomando os valores\n",
    "\n",
    "$a=0,1; b = 0,2; c = 0,3; d= 0,5$;\n",
    "\n",
    "$0,02 \\leq 0,15$"
   ]
  },
  {
   "cell_type": "markdown",
   "metadata": {
    "id": "koa25-dcqTDT"
   },
   "source": [
    "(t3): 𝑇(𝑎, 𝑏) = 𝑇(𝑏, 𝑎)\n",
    "\n",
    "$T(a,b) = a*b = ab$\n",
    "\n",
    "$T(b,a) = b*a = ab$\n",
    "\n",
    "$T(a,b) = T(b,a) = ab$"
   ]
  },
  {
   "cell_type": "markdown",
   "metadata": {
    "id": "JLXkK041qUlm"
   },
   "source": [
    "(t4): 𝑇(𝑎, 𝑇(𝑏, 𝑐)) = 𝑇(𝑇(𝑎, 𝑏), 𝑐)\n",
    "\n",
    "$T(b,c) = b*c = bc$\n",
    "\n",
    "$T(a,T(b,c)) = a*b*c = abc$\n",
    "\n",
    "$T(a,b) = a*b = ab$\n",
    "\n",
    "$T(T(a,b),c) = a*b*c = abc$\n",
    "\n",
    "$T(a,T(b,c)) = T(T(a,b),c) = abc$"
   ]
  },
  {
   "cell_type": "markdown",
   "metadata": {
    "id": "NoIGfWg3qV_Q"
   },
   "source": [
    "# Questão 7\n",
    "Prove que o Produto Limitado 𝑇(𝑎, 𝑏) = 𝑚𝑎𝑥⁡(0, 𝑎 + 𝑏 − 1) atende aos axiomas\n",
    "t1, t2, t3 e t4. Obs: a e b são conjuntos nebulosos"
   ]
  },
  {
   "cell_type": "markdown",
   "metadata": {
    "id": "YCVmDSY8qZ0N"
   },
   "source": [
    "(t1):𝑇(0, 0) = 0 e 𝑇(𝑎, 1) = 𝑇(1, 𝑎) = 𝑎\n",
    "\n",
    "$T(0,0) = max(0, 0+0-1) = 0$\n",
    "\n",
    "$T(a,1) = max(0, a+1-1) = a$\n",
    "\n",
    "$T(1,a) = max(0, 1+a-1) = a$\n",
    "\n",
    "$T(a,1) = T(1,a) = a$"
   ]
  },
  {
   "cell_type": "markdown",
   "metadata": {
    "id": "1k9FzzmDqb6W"
   },
   "source": [
    "(t2): 𝑇(𝑎, 𝑏)≤ 𝑇(𝑐, 𝑑) se 𝑎≤𝑐 e 𝑏≤𝑑\n",
    "\n",
    "$T(a,b) = max(0, a+b-1)$\n",
    "\n",
    "$Tc,d) = max(0, c+d-1)$\n",
    "\n",
    "$T(a,b) \\leq T(c,d)$\n",
    "\n",
    "$max(0, a+b-1) \\leq max(0, c+d-1)$\n",
    "\n",
    "Tomando os valores\n",
    "\n",
    "$a=0,1; b = 0,3; c=0,5; d = 0,7$\n",
    "\n",
    "$max(0, (0,4-1)) \\leq max(0, (1,2-1))$\n",
    "\n",
    "$0 \\leq 0,2$"
   ]
  },
  {
   "cell_type": "markdown",
   "metadata": {
    "id": "wfcYl83Eqddr"
   },
   "source": [
    "(t3): 𝑇(𝑎, 𝑏) = 𝑇(𝑏, 𝑎)\n",
    "\n",
    "$T(a,b) = max(0, a+b-1)$\n",
    "\n",
    "$T(b,a) = max(0, b+a-1) = max(0, a+b-1)$\n",
    "\n",
    "$T(a,b) = T(b,a) = max(0, a+b-1)$"
   ]
  },
  {
   "cell_type": "markdown",
   "metadata": {
    "id": "XbSbY2c-qe1Y"
   },
   "source": [
    "(t4): 𝑇(𝑎, 𝑇(𝑏, 𝑐)) = 𝑇(𝑇(𝑎, 𝑏), 𝑐)\n",
    "\n",
    "$T(b,c) = max(0, b+c-1)$\n",
    "\n",
    "$T(a,T(b,c)) = max(0, a+max(0, b+c-1)-1)$\n",
    "\n",
    "$T(a,b) = max(0, a+b-1)$\n",
    "\n",
    "$T(T(a,b),c) = max(0, max(0, a+b-1)+c-1)$\n",
    "\n",
    "$max(0, a+max(0, b+c-1)-1) = max(0, max(0, a+b-1)+c-1)$\n",
    "\n",
    "Tomando os valores\n",
    "\n",
    "$a=0,1; b = 0,3; c=0,5; d = 0,7$\n",
    "\n",
    "$max(0, a+max(0, (0,8-1))-1) = max(0, max(0, (0,4-1))+c-1)$\n",
    "\n",
    "$max(0, a+0-1) = max(0, 0+c-1)$\n",
    "\n",
    "$max(0, (0,1+0-1)) = max(0, (0+0,5-1))$\n",
    "\n",
    "$0 = 0$\n",
    "\n",
    "$T(a,T(b,c)) = T(T(a,b),c) = 0$"
   ]
  },
  {
   "cell_type": "markdown",
   "metadata": {
    "id": "c4hcqfFjqhH1"
   },
   "source": [
    "## Questão 8\n",
    "Usando a Lei de De-Morgan Generalizada 𝑇(𝑎, 𝑏) = 𝑁(𝑆(𝑁(𝑎), 𝑁(𝑏))), mostre que\n",
    "a Soma Probabilística 𝑆(𝑎, 𝑏) = 𝑎 + 𝑏 − 𝑎𝑏 e o Produto 𝑇(𝑎, 𝑏) = 𝑎𝑏 são\n",
    "operadores duas em relação ao complemento de Zadeh 𝑁(𝑎) = 1 − 𝑎"
   ]
  },
  {
   "cell_type": "markdown",
   "metadata": {
    "id": "Jo67pG2CuZP-"
   },
   "source": [
    "$T(a,b) = ab$\n",
    "\n",
    "$N(a) = 1 - a$\n",
    "\n",
    "$N(b) = 1 - b$\n",
    "\n",
    "$S(N(a), N(b)) = (1-a) + (1-b) - (1-a)(1-b)$\n",
    "\n",
    "$S(N(a), N(b)) = 2-a-b - (1 -b - a + ab) = 2-a-b -1 +b + a - ab$\n",
    "\n",
    "$S(N(a), N(b)) = 1 - ab$\n",
    "\n",
    "$N(S(N(a), N(b))) = 1 - (1 - ab)$ \n",
    "\n",
    "$N(S(N(a), N(b))) = ab$\n",
    "\n",
    "Portanto\n",
    "\n",
    "$T(a,b) = N(S(N(a), N(b))) = ab$"
   ]
  },
  {
   "cell_type": "markdown",
   "metadata": {
    "id": "06acqruuqnnm"
   },
   "source": [
    "## Questão 9\n",
    "Escreva um programa em MatLab para testar as seguintes funções de pertinência\n",
    "\n",
    "Testar (plotar) todas as funções para 0 <= x <= 10, com diferentes\n",
    "parametrizações, conforme mostrado nos slides do curso."
   ]
  },
  {
   "cell_type": "code",
   "execution_count": null,
   "metadata": {
    "id": "_vpuJI4osUVS"
   },
   "outputs": [],
   "source": [
    "pip install scikit-fuzzy"
   ]
  },
  {
   "cell_type": "code",
   "execution_count": null,
   "metadata": {
    "id": "ZYvhFXxGr9bf"
   },
   "outputs": [],
   "source": [
    "import numpy as np\n",
    "import matplotlib.pyplot as plt\n",
    "import skfuzzy as fuzz\n",
    "\n",
    "step = 0.2\n",
    "max = 10 + step\n",
    "x = np.arange(0,max, step)"
   ]
  },
  {
   "cell_type": "markdown",
   "metadata": {
    "id": "BtbqIW7tqvGR"
   },
   "source": [
    "função de pertinência triangular:\n",
    "trimf (x, a , b , c), onde x é um vetor representando a variável de interesse; a, b e\n",
    "c representam os vértices (parâmetros) da função."
   ]
  },
  {
   "cell_type": "code",
   "execution_count": null,
   "metadata": {
    "colab": {
     "base_uri": "https://localhost:8080/",
     "height": 265
    },
    "id": "euM1FxiBr-r2",
    "outputId": "7167abfb-6aa8-46cc-e089-f3c2fe838d2e"
   },
   "outputs": [
    {
     "data": {
      "image/png": "[encoded data removed]",
      "text/plain": [
       "<Figure size 432x288 with 2 Axes>"
      ]
     },
     "metadata": {
      "needs_background": "light"
     },
     "output_type": "display_data"
    }
   ],
   "source": [
    "y1 = fuzz.trimf(x, [3, 4, 5])\n",
    "y2 = fuzz.trimf(x, [2, 4, 7])\n",
    "y3 = fuzz.trimf(x, [1, 4, 9])\n",
    "plt.subplot(2, 1, 1)\n",
    "plt.plot(x, y1, x, y2, x, y3)\n",
    "y4 = fuzz.trimf(x, [2, 4, 5])\n",
    "y5 = fuzz.trimf(x, [3, 4, 7])\n",
    "y6 = fuzz.trimf(x, [4, 4, 9])\n",
    "plt.subplot(2, 1, 2)\n",
    "plt.plot(x, y4, x, y5, x, y6)\n",
    "plt.show()"
   ]
  },
  {
   "cell_type": "markdown",
   "metadata": {
    "id": "3PFah3ciqwwU"
   },
   "source": [
    "função de pertinência trapezoidal:\n",
    "trapmf (x, a , b , c, d), onde x é um vetor representando a variável de interesse; a,\n",
    "b, c e d representam os vértices (parâmetros) da função."
   ]
  },
  {
   "cell_type": "code",
   "execution_count": null,
   "metadata": {
    "colab": {
     "base_uri": "https://localhost:8080/",
     "height": 317
    },
    "id": "LZcG2Te6w4H-",
    "outputId": "0132be75-6e70-4f08-f544-b5f15ffc34fa"
   },
   "outputs": [
    {
     "data": {
      "text/plain": [
       "[<matplotlib.lines.Line2D at 0x7f425fe4ac50>,\n",
       " <matplotlib.lines.Line2D at 0x7f425fe4ae50>,\n",
       " <matplotlib.lines.Line2D at 0x7f425fe4afd0>]"
      ]
     },
     "execution_count": 34,
     "metadata": {},
     "output_type": "execute_result"
    },
    {
     "data": {
      "image/png": "[encoded data removed]",
      "text/plain": [
       "<Figure size 432x288 with 1 Axes>"
      ]
     },
     "metadata": {
      "needs_background": "light"
     },
     "output_type": "display_data"
    }
   ],
   "source": [
    "y1 = fuzz.trapmf(x, [2, 3, 7, 9])\n",
    "y2 = fuzz.trapmf(x, [3, 4, 6, 8])\n",
    "y3 = fuzz.trapmf(x, [4, 5, 5, 7])\n",
    "plt.plot(x, y1, x, y2, x, y3)"
   ]
  },
  {
   "cell_type": "markdown",
   "metadata": {
    "id": "4Fz0-1Wuqz7Q"
   },
   "source": [
    "função de pertinência gaussiana:\n",
    "gaussmf (x, c, sigma), onde x é um vetor representando a variável de interesse; c\n",
    "e sigma representam o centro e a largura (parâmetros) da função.\n",
    "* ver equação da função Gaussiana nos slides do curso"
   ]
  },
  {
   "cell_type": "code",
   "execution_count": null,
   "metadata": {
    "colab": {
     "base_uri": "https://localhost:8080/",
     "height": 265
    },
    "id": "II6-k6iTy_sC",
    "outputId": "2747b4d7-022f-478d-c089-6066a957ac23"
   },
   "outputs": [
    {
     "data": {
      "image/png": "[encoded data removed]",
      "text/plain": [
       "<Figure size 432x288 with 2 Axes>"
      ]
     },
     "metadata": {
      "needs_background": "light"
     },
     "output_type": "display_data"
    }
   ],
   "source": [
    "y1 = fuzz.gaussmf(x, 5, 0.5)\n",
    "y2 = fuzz.gaussmf(x, 5, 1)\n",
    "y3 = fuzz.gaussmf(x, 5, 2)\n",
    "y4 = fuzz.gaussmf(x, 5, 3)\n",
    "plt.subplot(2, 1, 1)\n",
    "plt.plot(x, y1, x, y2, x, y3, x, y4)\n",
    "y1 = fuzz.gaussmf(x, 2, 1)\n",
    "y2 = fuzz.gaussmf(x, 4, 1)\n",
    "y3 = fuzz.gaussmf(x, 6, 1)\n",
    "y4 = fuzz.gaussmf(x, 8, 1)\n",
    "plt.subplot(2, 1, 2)\n",
    "plt.plot(x, y1, x, y2, x, y3, x, y4)\n",
    "plt.show()"
   ]
  },
  {
   "cell_type": "markdown",
   "metadata": {
    "id": "GqyJQ2qZq4iQ"
   },
   "source": [
    "função de pertinência Sino Generalizada:\n",
    "gbellmf (x, c, sigma, inc), onde x é um vetor representando a variável de\n",
    "interesse; c e sigma representam o centro e a largura (parâmetros) da função; inc\n",
    "é o parâmetro de inclinação nos crossover points\n",
    "* ver equação da função Sino Generalizada nos slides do curso"
   ]
  },
  {
   "cell_type": "code",
   "execution_count": null,
   "metadata": {
    "colab": {
     "base_uri": "https://localhost:8080/",
     "height": 265
    },
    "id": "7Bast-gi1Uhg",
    "outputId": "4bc0b672-183c-4c84-f371-fe8375f5c5c4"
   },
   "outputs": [
    {
     "data": {
      "image/png": "[encoded data removed]",
      "text/plain": [
       "<Figure size 432x288 with 2 Axes>"
      ]
     },
     "metadata": {
      "needs_background": "light"
     },
     "output_type": "display_data"
    }
   ],
   "source": [
    "y1 = fuzz.gbellmf(x, 1, 2, 5)\n",
    "y2 = fuzz.gbellmf(x, 2, 4, 5)\n",
    "y3 = fuzz.gbellmf(x, 3, 6, 5)\n",
    "y4 = fuzz.gbellmf(x, 4, 8, 5)\n",
    "plt.subplot(2, 1, 1)\n",
    "plt.plot(x, y1, x, y2, x, y3, x, y4)\n",
    "y1 = fuzz.gbellmf(x, 2, 1, 5)\n",
    "y2 = fuzz.gbellmf(x, 2, 2, 5)\n",
    "y3 = fuzz.gbellmf(x, 2, 4, 5)\n",
    "y4 = fuzz.gbellmf(x, 2, 8, 5)\n",
    "plt.subplot(2, 1, 2)\n",
    "plt.plot(x, y1, x, y2, x, y3, x, y4)\n",
    "plt.show()"
   ]
  },
  {
   "cell_type": "markdown",
   "metadata": {
    "id": "EqFW870rq6qh"
   },
   "source": [
    "função de pertinência sigmoidal:\n",
    "sigmf (x, a, c), onde x é um vetor representando a variável de interesse; a\n",
    "eontrola a inclinação da função no crossover point x = c;\n",
    "*   ver equação da função Sigmoide nos slides do curso\n",
    "\n"
   ]
  },
  {
   "cell_type": "code",
   "execution_count": null,
   "metadata": {
    "colab": {
     "base_uri": "https://localhost:8080/",
     "height": 265
    },
    "id": "6K6qTxmSrBsT",
    "outputId": "bec59096-72f6-416a-8b73-6d38038ef8f0"
   },
   "outputs": [
    {
     "data": {
      "image/png": "[encoded data removed]",
      "text/plain": [
       "<Figure size 432x288 with 2 Axes>"
      ]
     },
     "metadata": {
      "needs_background": "light"
     },
     "output_type": "display_data"
    }
   ],
   "source": [
    "y1 = fuzz.sigmf(x, 5, -1)\n",
    "y2 = fuzz.sigmf(x, 5, -3)\n",
    "y3 = fuzz.sigmf(x, 5, 4)\n",
    "y4 = fuzz.sigmf(x, 5, 8)\n",
    "plt.subplot(2, 1, 1)\n",
    "plt.plot(x, y1, x, y2, x, y3, x, y4)\n",
    "y1 = fuzz.sigmf(x, 2, 5)\n",
    "y2 = fuzz.sigmf(x, 4, 5)\n",
    "y3 = fuzz.sigmf(x, 6, 5)\n",
    "y4 = fuzz.sigmf(x, 8, 5)\n",
    "plt.subplot(2, 1, 2)\n",
    "plt.plot(x, y1, x, y2, x, y3, x, y4)\n",
    "plt.show()"
   ]
  }
 ],
 "metadata": {
  "colab": {
   "collapsed_sections": [],
   "provenance": []
  },
  "kernelspec": {
   "display_name": "Python 3 (ipykernel)",
   "language": "python",
   "name": "python3"
  },
  "language_info": {
   "codemirror_mode": {
    "name": "ipython",
    "version": 3
   },
   "file_extension": ".py",
   "mimetype": "text/x-python",
   "name": "python",
   "nbconvert_exporter": "python",
   "pygments_lexer": "ipython3",
   "version": "3.10.6"
  }
 },
 "nbformat": 4,
 "nbformat_minor": 4
}
